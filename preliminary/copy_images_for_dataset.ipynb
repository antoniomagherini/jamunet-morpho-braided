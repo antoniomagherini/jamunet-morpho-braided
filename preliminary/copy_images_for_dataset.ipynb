{
 "cells": [
  {
   "cell_type": "markdown",
   "metadata": {},
   "source": [
    "# Image copying\n",
    "\n",
    "This notebook was used for copying the images for the training, validation, and testing datasets generation. "
   ]
  },
  {
   "cell_type": "code",
   "execution_count": 1,
   "metadata": {},
   "outputs": [
    {
     "name": "stdout",
     "output_type": "stream",
     "text": [
      "c:\\Users\\Magherin\\OneDrive - Stichting Deltares\\Desktop\\jamuna_morpho\n"
     ]
    }
   ],
   "source": [
    "# move to root directory\n",
    "\n",
    "%cd .. "
   ]
  },
  {
   "cell_type": "code",
   "execution_count": 2,
   "metadata": {},
   "outputs": [],
   "source": [
    "# reload modules to avoid restarting the notebook every time these are updated\n",
    "\n",
    "%load_ext autoreload\n",
    "%autoreload 2"
   ]
  },
  {
   "cell_type": "code",
   "execution_count": 3,
   "metadata": {},
   "outputs": [],
   "source": [
    "# import modules \n",
    "\n",
    "import os \n",
    "\n",
    "from preprocessing.images_analysis import copy_images"
   ]
  },
  {
   "cell_type": "markdown",
   "metadata": {},
   "source": [
    "Directories of original and preprocessed images. "
   ]
  },
  {
   "cell_type": "code",
   "execution_count": 4,
   "metadata": {},
   "outputs": [],
   "source": [
    "dir_orig = r'data\\satellite\\original'\n",
    "dir_proc = r'data\\satellite\\preprocessed'"
   ]
  },
  {
   "cell_type": "markdown",
   "metadata": {},
   "source": [
    "Common keys required for functions"
   ]
  },
  {
   "cell_type": "code",
   "execution_count": 5,
   "metadata": {},
   "outputs": [],
   "source": [
    "JRC = r'JRC_GSW1_4_MonthlyHistory'\n",
    "\n",
    "train = 'training'\n",
    "val = 'validation'\n",
    "test = 'testing'\n",
    "train_val_test_list = [train, val, test]"
   ]
  },
  {
   "cell_type": "markdown",
   "metadata": {},
   "source": [
    "#### Get best images for each season\n",
    "\n",
    "**<span style=\"color:red\">Attention!</span>**\n",
    "\\\n",
    "Don't run the following cells unless needed. If this is done, the files created will be overwritten."
   ]
  },
  {
   "cell_type": "markdown",
   "metadata": {},
   "source": [
    "This cell copies the best <code>*.tif</code> images of each folder (i.e., combination of use and reach id) by selecting the ones with less <code>no-data</code> pixels for each period."
   ]
  },
  {
   "cell_type": "code",
   "execution_count": null,
   "metadata": {},
   "outputs": [],
   "source": [
    "for folder in os.listdir(dir_proc):\n",
    "    for use in train_val_test_list:\n",
    "        if use in folder:\n",
    "            reach_id = folder.split('_r',1)[1]\n",
    "            copy_images(use, int(reach_id), monsoon_start=5, monsoon_end=10)"
   ]
  },
  {
   "cell_type": "code",
   "execution_count": 7,
   "metadata": {},
   "outputs": [],
   "source": [
    "# this cell was run after updating the preprocessing\n",
    "# for the following training reaches only - it is not needed to run anymore\n",
    "\n",
    "# rchs = [5, 6, 7, 14, 15, 24, 25, 26, 27, 28]\n",
    "\n",
    "# for folder in os.listdir(dir_proc):\n",
    "#     if train in folder:\n",
    "#         for reach_id in rchs:\n",
    "#         # reach_id = folder.split('_r',1)[1]\n",
    "#             copy_images(train, int(reach_id), monsoon_start=5, monsoon_end=10)"
   ]
  },
  {
   "cell_type": "markdown",
   "metadata": {},
   "source": [
    "#### Get images for a specified month\n",
    "\n",
    "**<span style=\"color:red\">Attention!</span>**\n",
    "\\\n",
    "Don't run the following cells unless needed. If this is done, the files created will be overwritten."
   ]
  },
  {
   "cell_type": "markdown",
   "metadata": {},
   "source": [
    "This cell copies all <code>*.tif</code> images of each folder (i.e., combination of use and reach id) by selecting those representative of the specified <code>month</code>. Only low-flow season months (from January = 1 to April = 4) are considered here."
   ]
  },
  {
   "cell_type": "code",
   "execution_count": 8,
   "metadata": {},
   "outputs": [],
   "source": [
    "months = [1, 2, 3, 4]\n",
    "\n",
    "for folder in os.listdir(dir_proc):\n",
    "    for use in train_val_test_list:\n",
    "        if use in folder:\n",
    "            reach_id = folder.split('_r',1)[1]\n",
    "            for month in months:\n",
    "                copy_images(use, int(reach_id), single_month=month, dir_dest=fr'data\\satellite\\dataset_month{month}')"
   ]
  },
  {
   "cell_type": "code",
   "execution_count": 10,
   "metadata": {},
   "outputs": [],
   "source": [
    "# # this cell was run after updating the preprocessing\n",
    "# # for the following training reaches only - it is not needed to run anymore\n",
    "\n",
    "# months = [1, 2, 3, 4]\n",
    "# rchs = [5, 6, 7, 14, 15, 24, 25, 26, 27, 28]\n",
    "\n",
    "# for folder in os.listdir(dir_proc):\n",
    "#     if train in folder:\n",
    "#         for reach_id in rchs:\n",
    "#             for month in months:\n",
    "#                 copy_images(train, int(reach_id), single_month=month, dir_dest=fr'data\\satellite\\dataset_month{month}')"
   ]
  },
  {
   "cell_type": "markdown",
   "metadata": {},
   "source": [
    "#### Get images for a specified month - temporal dataset (not spatial)\n",
    "\n",
    "**<span style=\"color:red\">Attention!</span>**\n",
    "\\\n",
    "Don't run the following cells unless needed. If this is done, the files created will be overwritten."
   ]
  },
  {
   "cell_type": "markdown",
   "metadata": {},
   "source": [
    "This cell copies all <code>*.tif</code> images of each folder (i.e., combination of use and reach id) by selecting those representative of the specified <code>month</code>."
   ]
  },
  {
   "cell_type": "code",
   "execution_count": null,
   "metadata": {},
   "outputs": [],
   "source": [
    "months = [1, 2, 3, 4]\n",
    "\n",
    "for folder in os.listdir(dir_proc):\n",
    "    for use in train_val_test_list:\n",
    "        if use in folder:\n",
    "            reach_id = folder.split('_r',1)[1]\n",
    "            for month in months:\n",
    "                copy_images(use, int(reach_id), single_month=month, dir_dest=fr'data\\satellite\\dataset_month{month}')"
   ]
  }
 ],
 "metadata": {
  "kernelspec": {
   "display_name": "braided",
   "language": "python",
   "name": "python3"
  },
  "language_info": {
   "codemirror_mode": {
    "name": "ipython",
    "version": 3
   },
   "file_extension": ".py",
   "mimetype": "text/x-python",
   "name": "python",
   "nbconvert_exporter": "python",
   "pygments_lexer": "ipython3",
   "version": "3.9.17"
  }
 },
 "nbformat": 4,
 "nbformat_minor": 2
}
