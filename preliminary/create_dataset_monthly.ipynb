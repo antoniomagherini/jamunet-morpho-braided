{
 "cells": [
  {
   "cell_type": "markdown",
   "metadata": {},
   "source": [
    "# Dataset creation\n",
    "\n",
    "This notebook is used for creating the datasets used for the training, validation and testing of the deep-learning model. \n",
    "\n",
    "Author of the notebook:\n",
    "Antonio Magherini (Antonio.Magherini@deltares.nl)."
   ]
  },
  {
   "cell_type": "code",
   "execution_count": 1,
   "metadata": {},
   "outputs": [
    {
     "name": "stdout",
     "output_type": "stream",
     "text": [
      "c:\\Users\\Magherin\\OneDrive - Stichting Deltares\\Desktop\\jamuna_morpho\n"
     ]
    }
   ],
   "source": [
    "# move to root directory\n",
    "\n",
    "%cd .. "
   ]
  },
  {
   "cell_type": "code",
   "execution_count": 2,
   "metadata": {},
   "outputs": [],
   "source": [
    "# reload modules to avoid restarting the notebook every time these are updated\n",
    "\n",
    "%load_ext autoreload\n",
    "%autoreload 2"
   ]
  },
  {
   "cell_type": "code",
   "execution_count": 3,
   "metadata": {},
   "outputs": [],
   "source": [
    "# import modules \n",
    "\n",
    "import torch \n",
    "\n",
    "from preprocessing.dataset_generation import * "
   ]
  },
  {
   "cell_type": "code",
   "execution_count": 4,
   "metadata": {},
   "outputs": [
    {
     "name": "stdout",
     "output_type": "stream",
     "text": [
      "Using device: cpu\n"
     ]
    }
   ],
   "source": [
    "device = torch.device('cuda' if torch.cuda.is_available() else 'cpu')\n",
    "print(f'Using device: {device}')"
   ]
  },
  {
   "cell_type": "markdown",
   "metadata": {},
   "source": [
    "Directories of original and preprocessed images. "
   ]
  },
  {
   "cell_type": "code",
   "execution_count": 5,
   "metadata": {},
   "outputs": [],
   "source": [
    "dir_orig = r'data\\satellite\\original'\n",
    "dir_proc = r'data\\satellite\\preprocessed'\n",
    "dir_dataset = r'data\\satellite\\dataset'\n",
    "dir_dataset_1024x512 = r'data\\satellite\\dataset_1024x512'\n",
    "dir_dataset_jan = r'data\\satellite\\dataset_month1' \n",
    "dir_dataset_feb = r'data\\satellite\\dataset_month2'\n",
    "dir_dataset_mar = r'data\\satellite\\dataset_month3'\n",
    "dir_dataset_apr = r'data\\satellite\\dataset_month4'"
   ]
  },
  {
   "cell_type": "markdown",
   "metadata": {},
   "source": [
    "Available collections."
   ]
  },
  {
   "cell_type": "code",
   "execution_count": 6,
   "metadata": {},
   "outputs": [],
   "source": [
    "JRC = r'JRC_GSW1_4_MonthlyHistory'"
   ]
  },
  {
   "cell_type": "markdown",
   "metadata": {},
   "source": [
    "Set string variables."
   ]
  },
  {
   "cell_type": "code",
   "execution_count": 7,
   "metadata": {},
   "outputs": [],
   "source": [
    "train = 'training'\n",
    "val = 'validation'\n",
    "test = 'testing'\n",
    "\n",
    "train_val_test_list = [train, val, test]"
   ]
  },
  {
   "cell_type": "markdown",
   "metadata": {},
   "source": [
    "The next cells are used just to show how the different functions work. "
   ]
  },
  {
   "cell_type": "markdown",
   "metadata": {},
   "source": [
    "1. Create the input and target datasets: all images are loaded regardless of their quality."
   ]
  },
  {
   "cell_type": "code",
   "execution_count": 8,
   "metadata": {},
   "outputs": [],
   "source": [
    "input_mar, target_mar = create_datasets(val, 1, 5, dir_folders=dir_dataset_mar)"
   ]
  },
  {
   "cell_type": "code",
   "execution_count": 9,
   "metadata": {},
   "outputs": [
    {
     "name": "stdout",
     "output_type": "stream",
     "text": [
      "Input and target shape month by month (training reach 1):\n",
      "March --> input shape: (29, 4, 1000, 500) - Target shape: (29, 1, 1000, 500)\n"
     ]
    }
   ],
   "source": [
    "print(f'Input and target shape month by month (training reach 1):\\n\\\n",
    "March --> input shape: {np.shape(input_mar)} - Target shape: {np.shape(target_mar)}')"
   ]
  },
  {
   "cell_type": "code",
   "execution_count": 8,
   "metadata": {},
   "outputs": [
    {
     "name": "stderr",
     "output_type": "stream",
     "text": [
      "c:\\Users\\magherin\\AppData\\Local\\anaconda3\\envs\\braided\\lib\\site-packages\\osgeo\\gdal.py:312: FutureWarning: Neither gdal.UseExceptions() nor gdal.DontUseExceptions() has been explicitly called. In GDAL 4.0, exceptions will be enabled by default.\n",
      "  warnings.warn(\n"
     ]
    }
   ],
   "source": [
    "input_jan, target_jan = create_datasets(train, 1, 5, dir_folders=dir_dataset_jan)\n",
    "input_feb, target_feb = create_datasets(train, 1, 5, dir_folders=dir_dataset_feb)\n",
    "input_mar, target_mar = create_datasets(train, 1, 5, dir_folders=dir_dataset_mar)\n",
    "input_apr, target_apr = create_datasets(train, 1, 5, dir_folders=dir_dataset_apr)"
   ]
  },
  {
   "cell_type": "code",
   "execution_count": 9,
   "metadata": {},
   "outputs": [
    {
     "name": "stdout",
     "output_type": "stream",
     "text": [
      "Input and target shape month by month (training reach 1):\n",
      "January --> input shape: (29, 4, 1000, 500) - Target shape: (29, 1, 1000, 500)\n",
      "February --> input shape: (29, 4, 1000, 500) - Target shape: (29, 1, 1000, 500)\n",
      "March --> input shape: (29, 4, 1000, 500) - Target shape: (29, 1, 1000, 500)\n",
      "April --> input shape: (29, 4, 1000, 500) - Target shape: (29, 1, 1000, 500)\n"
     ]
    }
   ],
   "source": [
    "print(f'Input and target shape month by month (training reach 1):\\n\\\n",
    "January --> input shape: {np.shape(input_jan)} - Target shape: {np.shape(target_jan)}\\n\\\n",
    "February --> input shape: {np.shape(input_feb)} - Target shape: {np.shape(target_feb)}\\n\\\n",
    "March --> input shape: {np.shape(input_mar)} - Target shape: {np.shape(target_mar)}\\n\\\n",
    "April --> input shape: {np.shape(input_apr)} - Target shape: {np.shape(target_apr)}')"
   ]
  },
  {
   "cell_type": "markdown",
   "metadata": {},
   "source": [
    "2. Combine input and target datasets filtering out bad images (based on <code>no-data</code> and <code>water</code> thresholds). "
   ]
  },
  {
   "cell_type": "code",
   "execution_count": 10,
   "metadata": {},
   "outputs": [],
   "source": [
    "input_jan_filtered, target_jan_filtered = combine_datasets(train, 1, dir_folders=dir_dataset_jan)\n",
    "input_feb_filtered, target_feb_filtered = combine_datasets(train, 1, dir_folders=dir_dataset_feb)\n",
    "input_mar_filtered, target_mar_filtered = combine_datasets(train, 1, dir_folders=dir_dataset_mar)\n",
    "input_apr_filtered, target_apr_filtered = combine_datasets(train, 1, dir_folders=dir_dataset_apr)"
   ]
  },
  {
   "cell_type": "code",
   "execution_count": 11,
   "metadata": {},
   "outputs": [
    {
     "name": "stdout",
     "output_type": "stream",
     "text": [
      "Input and target shape month by month after filtering out not suitable images (training reach 1):\n",
      "January --> input shape: (6, 4, 1000, 500) - Target shape: (6, 1000, 500)\n",
      "February --> input shape: (17, 4, 1000, 500) - Target shape: (17, 1000, 500)\n",
      "March --> input shape: (13, 4, 1000, 500) - Target shape: (13, 1000, 500)\n",
      "April --> input shape: (10, 4, 1000, 500) - Target shape: (10, 1000, 500)\n"
     ]
    }
   ],
   "source": [
    "print(f'Input and target shape month by month after filtering out not suitable images (training reach 1):\\n\\\n",
    "January --> input shape: {np.shape(input_jan_filtered)} - Target shape: {np.shape(target_jan_filtered)}\\n\\\n",
    "February --> input shape: {np.shape(input_feb_filtered)} - Target shape: {np.shape(target_feb_filtered)}\\n\\\n",
    "March --> input shape: {np.shape(input_mar_filtered)} - Target shape: {np.shape(target_mar_filtered)}\\n\\\n",
    "April --> input shape: {np.shape(input_apr_filtered)} - Target shape: {np.shape(target_apr_filtered)}')"
   ]
  },
  {
   "cell_type": "markdown",
   "metadata": {},
   "source": [
    "### 1. Training dataset"
   ]
  },
  {
   "cell_type": "code",
   "execution_count": 12,
   "metadata": {},
   "outputs": [
    {
     "name": "stdout",
     "output_type": "stream",
     "text": [
      "Total training samples considering different months:\n",
      "January --> 378\n",
      "February --> 402\n",
      "March --> 413\n",
      "April --> 262\n"
     ]
    }
   ],
   "source": [
    "# training\n",
    "dtype = dtype=torch.float32\n",
    "\n",
    "dataset_train_jan = create_full_dataset(train, dir_folders=dir_dataset_jan, device=device, dtype=dtype)\n",
    "dataset_train_feb = create_full_dataset(train, dir_folders=dir_dataset_feb, device=device, dtype=dtype)\n",
    "dataset_train_mar = create_full_dataset(train, dir_folders=dir_dataset_mar, device=device, dtype=dtype)\n",
    "dataset_train_apr = create_full_dataset(train, dir_folders=dir_dataset_apr, device=device, dtype=dtype)\n",
    "\n",
    "print(f'Total training samples considering different months:\\n\\\n",
    "January --> {len(dataset_train_jan)}\\n\\\n",
    "February --> {len(dataset_train_feb)}\\n\\\n",
    "March --> {len(dataset_train_mar)}\\n\\\n",
    "April --> {len(dataset_train_apr)}')"
   ]
  },
  {
   "cell_type": "code",
   "execution_count": 13,
   "metadata": {},
   "outputs": [
    {
     "name": "stdout",
     "output_type": "stream",
     "text": [
      "Datasets shape (same for every monthly dataset)\n",
      "Input dataset sample shape: torch.Size([4, 1000, 500]) - Target dataset sample shape: torch.Size([1000, 500])\n"
     ]
    }
   ],
   "source": [
    "print(f\"Datasets shape (same for every monthly dataset)\\n\\\n",
    "Input dataset sample shape: {dataset_train_jan[0][0].shape} - Target dataset sample shape: {dataset_train_jan[0][1].shape}\")"
   ]
  },
  {
   "cell_type": "markdown",
   "metadata": {},
   "source": [
    "### 2. Validation dataset"
   ]
  },
  {
   "cell_type": "code",
   "execution_count": 14,
   "metadata": {},
   "outputs": [
    {
     "name": "stdout",
     "output_type": "stream",
     "text": [
      "Total validation samples considering different months:\n",
      "January --> 9\n",
      "February --> 19\n",
      "March --> 13\n",
      "April --> 17\n"
     ]
    }
   ],
   "source": [
    "# validation\n",
    "dataset_val_jan = create_full_dataset(val, dir_folders=dir_dataset_jan, device=device, dtype=dtype)\n",
    "dataset_val_feb = create_full_dataset(val, dir_folders=dir_dataset_feb, device=device, dtype=dtype)\n",
    "dataset_val_mar = create_full_dataset(val, dir_folders=dir_dataset_mar, device=device, dtype=dtype)\n",
    "dataset_val_apr = create_full_dataset(val, dir_folders=dir_dataset_apr, device=device, dtype=dtype)\n",
    "\n",
    "print(f'Total validation samples considering different months:\\n\\\n",
    "January --> {len(dataset_val_jan)}\\n\\\n",
    "February --> {len(dataset_val_feb)}\\n\\\n",
    "March --> {len(dataset_val_mar)}\\n\\\n",
    "April --> {len(dataset_val_apr)}')"
   ]
  },
  {
   "cell_type": "markdown",
   "metadata": {},
   "source": [
    "### 3. Testing dataset"
   ]
  },
  {
   "cell_type": "code",
   "execution_count": 15,
   "metadata": {},
   "outputs": [
    {
     "name": "stdout",
     "output_type": "stream",
     "text": [
      "Total validation samples considering different months:\n",
      "January --> 16\n",
      "February --> 19\n",
      "March --> 17\n",
      "April --> 17\n"
     ]
    }
   ],
   "source": [
    "# testing\n",
    "dataset_test_jan = create_full_dataset(test, dir_folders=dir_dataset_jan, device=device, dtype=dtype)\n",
    "dataset_test_feb = create_full_dataset(test, dir_folders=dir_dataset_feb, device=device, dtype=dtype)\n",
    "dataset_test_mar = create_full_dataset(test, dir_folders=dir_dataset_mar, device=device, dtype=dtype)\n",
    "dataset_test_apr = create_full_dataset(test, dir_folders=dir_dataset_apr, device=device, dtype=dtype)\n",
    "\n",
    "print(f'Total validation samples considering different months:\\n\\\n",
    "January --> {len(dataset_test_jan)}\\n\\\n",
    "February --> {len(dataset_test_feb)}\\n\\\n",
    "March --> {len(dataset_test_mar)}\\n\\\n",
    "April --> {len(dataset_test_apr)}')"
   ]
  }
 ],
 "metadata": {
  "kernelspec": {
   "display_name": "braided",
   "language": "python",
   "name": "python3"
  },
  "language_info": {
   "codemirror_mode": {
    "name": "ipython",
    "version": 3
   },
   "file_extension": ".py",
   "mimetype": "text/x-python",
   "name": "python",
   "nbconvert_exporter": "python",
   "pygments_lexer": "ipython3",
   "version": "3.9.17"
  }
 },
 "nbformat": 4,
 "nbformat_minor": 2
}
