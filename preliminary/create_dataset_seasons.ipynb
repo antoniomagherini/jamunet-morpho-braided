{
 "cells": [
  {
   "cell_type": "markdown",
   "metadata": {},
   "source": [
    "# Dataset creation\n",
    "\n",
    "This notebook is used for creating the datasets used for the training, validation and testing of the deep-learning model. \n",
    "\n",
    "Author of the notebook:\n",
    "Antonio Magherini (Antonio.Magherini@deltares.nl)."
   ]
  },
  {
   "cell_type": "code",
   "execution_count": 1,
   "metadata": {},
   "outputs": [
    {
     "name": "stdout",
     "output_type": "stream",
     "text": [
      "c:\\Users\\magherin\\Desktop\\jamuna_morpho\n"
     ]
    }
   ],
   "source": [
    "# move to root directory\n",
    "\n",
    "%cd .. "
   ]
  },
  {
   "cell_type": "code",
   "execution_count": 2,
   "metadata": {},
   "outputs": [],
   "source": [
    "# reload modules to avoid restarting the notebook every time these are updated\n",
    "\n",
    "%load_ext autoreload\n",
    "%autoreload 2"
   ]
  },
  {
   "cell_type": "code",
   "execution_count": 3,
   "metadata": {},
   "outputs": [],
   "source": [
    "# import modules \n",
    "\n",
    "import torch \n",
    "\n",
    "from preprocessing.dataset_generation import * "
   ]
  },
  {
   "cell_type": "code",
   "execution_count": 4,
   "metadata": {},
   "outputs": [
    {
     "name": "stdout",
     "output_type": "stream",
     "text": [
      "Using device: cuda\n"
     ]
    }
   ],
   "source": [
    "device = torch.device('cuda' if torch.cuda.is_available() else 'cpu')\n",
    "print(f'Using device: {device}')"
   ]
  },
  {
   "cell_type": "markdown",
   "metadata": {},
   "source": [
    "Directories of original and preprocessed images. "
   ]
  },
  {
   "cell_type": "code",
   "execution_count": 5,
   "metadata": {},
   "outputs": [],
   "source": [
    "dir_orig = r'data\\satellite\\original'\n",
    "dir_proc = r'data\\satellite\\preprocessed'\n",
    "dir_dataset = r'data\\satellite\\dataset'"
   ]
  },
  {
   "cell_type": "markdown",
   "metadata": {},
   "source": [
    "Available collections."
   ]
  },
  {
   "cell_type": "code",
   "execution_count": 6,
   "metadata": {},
   "outputs": [],
   "source": [
    "L5 = r'LANDSAT_LT05_C02_T1_L2'\n",
    "JRC = r'JRC_GSW1_4_MonthlyHistory'\n",
    "S1 = r'COPERNICUS_S1_GRD'"
   ]
  },
  {
   "cell_type": "markdown",
   "metadata": {},
   "source": [
    "Set string variables."
   ]
  },
  {
   "cell_type": "code",
   "execution_count": 7,
   "metadata": {},
   "outputs": [],
   "source": [
    "train = 'training'\n",
    "val = 'validation'\n",
    "test = 'testing'\n",
    "\n",
    "train_val_test_list = [train, val, test]"
   ]
  },
  {
   "cell_type": "markdown",
   "metadata": {},
   "source": [
    "The next cells are used just to show how the different functions work. "
   ]
  },
  {
   "cell_type": "markdown",
   "metadata": {},
   "source": [
    "1. Create the input and target datasets: all images are loaded regardless of their quality."
   ]
  },
  {
   "cell_type": "code",
   "execution_count": 8,
   "metadata": {},
   "outputs": [
    {
     "name": "stderr",
     "output_type": "stream",
     "text": [
      "c:\\Users\\magherin\\AppData\\Local\\anaconda3\\envs\\braided\\lib\\site-packages\\osgeo\\gdal.py:312: FutureWarning: Neither gdal.UseExceptions() nor gdal.DontUseExceptions() has been explicitly called. In GDAL 4.0, exceptions will be enabled by default.\n",
      "  warnings.warn(\n"
     ]
    }
   ],
   "source": [
    "input_dataset, target_dataset = create_datasets(train, 1, 5)"
   ]
  },
  {
   "cell_type": "code",
   "execution_count": 9,
   "metadata": {},
   "outputs": [
    {
     "name": "stdout",
     "output_type": "stream",
     "text": [
      "Input shape: (30, 4, 1000, 500)\n",
      "Target shape: (30, 1, 1000, 500)\n"
     ]
    }
   ],
   "source": [
    "print(f'Input shape: {np.shape(input_dataset)}\\nTarget shape: {np.shape(target_dataset)}')"
   ]
  },
  {
   "cell_type": "markdown",
   "metadata": {},
   "source": [
    "2. Combine input and target datasets filtering out bad images (based on <code>no-data</code> and <code>water</code> thresholds). "
   ]
  },
  {
   "cell_type": "code",
   "execution_count": 10,
   "metadata": {},
   "outputs": [],
   "source": [
    "input_train1, target_train1 = combine_datasets(train, 1)"
   ]
  },
  {
   "cell_type": "code",
   "execution_count": 11,
   "metadata": {},
   "outputs": [
    {
     "name": "stdout",
     "output_type": "stream",
     "text": [
      "Input list: (22, 4, 1000, 500).\n",
      "Target list: (22, 1000, 500)\n"
     ]
    }
   ],
   "source": [
    "print(f\"Input list: {np.shape(input_train1)}.\\nTarget list: {np.shape(target_train1)}\") "
   ]
  },
  {
   "cell_type": "markdown",
   "metadata": {},
   "source": [
    "### 1. Training dataset"
   ]
  },
  {
   "cell_type": "code",
   "execution_count": 12,
   "metadata": {},
   "outputs": [
    {
     "name": "stdout",
     "output_type": "stream",
     "text": [
      "Training samples: 577\n"
     ]
    }
   ],
   "source": [
    "# training\n",
    "dataset_train = create_full_dataset(train, device='cpu')\n",
    "print(f\"Training samples: {len(dataset_train)}\")"
   ]
  },
  {
   "cell_type": "code",
   "execution_count": 13,
   "metadata": {},
   "outputs": [
    {
     "name": "stdout",
     "output_type": "stream",
     "text": [
      "Input dataset sample shape: torch.Size([4, 1000, 500])\n",
      "Target dataset sample shape: torch.Size([1000, 500])\n"
     ]
    }
   ],
   "source": [
    "print(f\"Input dataset sample shape: {dataset_train[0][0].shape}\\nTarget dataset sample shape: {dataset_train[0][1].shape}\")"
   ]
  },
  {
   "cell_type": "markdown",
   "metadata": {},
   "source": [
    "### 2. Validation dataset"
   ]
  },
  {
   "cell_type": "code",
   "execution_count": 14,
   "metadata": {},
   "outputs": [
    {
     "name": "stdout",
     "output_type": "stream",
     "text": [
      "Validation samples: 22\n"
     ]
    }
   ],
   "source": [
    "# validation\n",
    "dataset_val = create_full_dataset(val, device='cpu')\n",
    "print(f\"Validation samples: {len(dataset_val)}\")"
   ]
  },
  {
   "cell_type": "markdown",
   "metadata": {},
   "source": [
    "### 3. Testing dataset"
   ]
  },
  {
   "cell_type": "code",
   "execution_count": 15,
   "metadata": {},
   "outputs": [
    {
     "name": "stdout",
     "output_type": "stream",
     "text": [
      "Testing samples: 22\n"
     ]
    }
   ],
   "source": [
    "# testing\n",
    "dataset_test = create_full_dataset(test, device='cpu')\n",
    "print(f\"Testing samples: {len(dataset_test)}\")"
   ]
  },
  {
   "cell_type": "code",
   "execution_count": 16,
   "metadata": {},
   "outputs": [
    {
     "name": "stdout",
     "output_type": "stream",
     "text": [
      "30\n"
     ]
    }
   ],
   "source": [
    "# number of folders in the given directory\n",
    "\n",
    "print(len(next(os.walk(dir_dataset))[1]))"
   ]
  }
 ],
 "metadata": {
  "kernelspec": {
   "display_name": "braided",
   "language": "python",
   "name": "python3"
  },
  "language_info": {
   "codemirror_mode": {
    "name": "ipython",
    "version": 3
   },
   "file_extension": ".py",
   "mimetype": "text/x-python",
   "name": "python",
   "nbconvert_exporter": "python",
   "pygments_lexer": "ipython3",
   "version": "3.9.17"
  }
 },
 "nbformat": 4,
 "nbformat_minor": 2
}
